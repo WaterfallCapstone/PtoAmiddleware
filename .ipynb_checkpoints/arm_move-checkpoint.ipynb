{
 "cells": [
  {
   "cell_type": "code",
   "execution_count": 1,
   "id": "bf7cf486",
   "metadata": {},
   "outputs": [
    {
     "name": "stdout",
     "output_type": "stream",
     "text": [
      "/dev/cu.BLTH\n",
      "/dev/cu.Bluetooth-Incoming-Port\n"
     ]
    }
   ],
   "source": [
    "import serial\n",
    "import platform\n",
    "import time\n",
    "from serial.tools import list_ports\n",
    "port = list(list_ports.comports())\n",
    "for p in port:\n",
    "    print(p.device)"
   ]
  },
  {
   "cell_type": "code",
   "execution_count": null,
   "id": "750478c1",
   "metadata": {},
   "outputs": [
    {
     "name": "stdout",
     "output_type": "stream",
     "text": [
      "Darwin\n",
      "/dev/cu.Bluetooth-Incoming-Port\n"
     ]
    }
   ],
   "source": [
    "os = platform.system()\n",
    "if(os == \"Window\"):\n",
    "    cport = \"COM3\"\n",
    "elif(os == \"Darwin\"):\n",
    "    cport = \"/dev/cu.Bluetooth-Incoming-Port\"\n",
    "else:\n",
    "    cport = \"/dev/ttyUSB0\" \n",
    "print(os)\n",
    "print(cport)\n",
    "\n",
    "\n",
    "py_serial = serial.Serial(\n",
    "    port=cport,\n",
    "    baudrate=9600,\n",
    "    timeout = 1,\n",
    ")\n",
    "\n",
    "class movement:\n",
    "    def __init__(self, motors):\n",
    "        self.__motors = motors\n",
    "        \n",
    "    def move(self, command):\n",
    "        self.__motors = command\n",
    "        conv = (\" \".join(str(c) for c in command))\n",
    "        print(conv)\n",
    "        py_serial.write(conv.encode())\n",
    "        \n",
    "    def status(self):\n",
    "        print(self.__motors)\n",
    "        return self.__motors\n",
    "\n",
    "m1 = movement([2,2,3,4])\n",
    "\n",
    "while True:\n",
    "    command = input().split()\n",
    "    m1.move(command)\n",
    "    m1.status()"
   ]
  },
  {
   "cell_type": "code",
   "execution_count": null,
   "id": "d7fd1e63",
   "metadata": {},
   "outputs": [],
   "source": []
  }
 ],
 "metadata": {
  "kernelspec": {
   "display_name": "Python 3 (ipykernel)",
   "language": "python",
   "name": "python3"
  },
  "language_info": {
   "codemirror_mode": {
    "name": "ipython",
    "version": 3
   },
   "file_extension": ".py",
   "mimetype": "text/x-python",
   "name": "python",
   "nbconvert_exporter": "python",
   "pygments_lexer": "ipython3",
   "version": "3.9.6"
  }
 },
 "nbformat": 4,
 "nbformat_minor": 5
}
